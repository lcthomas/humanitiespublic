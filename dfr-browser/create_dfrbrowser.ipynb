{
 "cells": [
  {
   "cell_type": "markdown",
   "metadata": {},
   "source": [
    "# Create Dfr-Browser"
   ]
  },
  {
   "cell_type": "markdown",
   "metadata": {},
   "source": [
    "This notebook provides an interface to code that creates Andrew Goldstone's [dfr-browser](https://github.com/agoldst/dfr-browser) from a topic model produced with MALLET. Dfr-browser code, stored in this module in `dfrb_scripts`, was written by Andrew Goldstone and adapted for our use and data. We use an older version of Goldstone's code (v0.5.1); see https://agoldst.github.io/dfr-browser/ for a version history of Goldstone's code. WE1S uses Goldstone's prepare_data.py Python script to prepare the data files (https://github.com/agoldst/dfr-browser/blob/master/bin/prepare-data), NOT the R package.\n",
    "See https://github.com/agoldst/dfr-browser for Goldstone's original code and documentation.\n",
    "\n",
    "You will only be able to create dfr-browsers for topic models you have created using the `topic-modeling` module in this repo. You will be able to view your dfr-browsers by following the instructions under the \"View Browsers\" heading."
   ]
  },
  {
   "cell_type": "markdown",
   "metadata": {},
   "source": [
    "## Settings\n",
    "\n",
    "This code block imports required Python modules and the `create_dfrbrowser.py` script. It is also where you should define the filepaths for the various files you will need to use or create."
   ]
  },
  {
   "cell_type": "code",
   "execution_count": null,
   "metadata": {},
   "outputs": [],
   "source": [
    "# Python imports\n",
    "import os\n",
    "from pathlib import Path\n",
    "from IPython.display import display, HTML\n",
    "\n",
    "# Load required scripts\n",
    "%run scripts/create_dfrbrowser.py\n",
    "\n",
    "# Define paths\n",
    "# directory this notebook is in\n",
    "current_dir       = %pwd\n",
    "# directory of this repo on your machine\n",
    "module_dir        = str(Path(current_dir).parent)\n",
    "# directory of repo data\n",
    "data_dir          = module_dir + '/data'\n",
    "# model directory created after running notebook in topic modeling module\n",
    "model_dir              = data_dir + '/models'"
   ]
  },
  {
   "cell_type": "markdown",
   "metadata": {},
   "source": [
    "## 1. Create Browser: Create files needed for dfr-browser\n",
    "\n",
    "### Note\n",
    "This notebook relies on metadata files that you may need to produce using the `prepare-data` module. This repo includes required metadata files for dfr-browsers for collections 33 and 36. See this repo's `README.md` for more information on those files and where they are located."
   ]
  },
  {
   "cell_type": "markdown",
   "metadata": {},
   "source": [
    "### Select collection to produce browser(s) for\n",
    "\n",
    "If you have run the topic modeling notebook in this repo, you will have a `data/models` folder. Navigate to this folder. Within it are subdirectories of model files corresponding to each collection you have topic modeled. They are titled `c` + collection number (for example, `c33`). Select the collection you want to produce a dfr-browser for by typing in the name of the appropriate subdirectory below. By default, this is set to `c33`. \n",
    "\n",
    "Setting this value will determine the path of the following variables:\n",
    "\n",
    "* `metadata_dir`: The location where metadata files for the browsers you will create are stored. This folder should already exist in your `data` directory.\n",
    "* `browser_meta_file`: A metadata file created using the `prepare-data` module.\n",
    "\n",
    "The below cell will also check to make sure the files you need exist and are located where the code in this notebook expects them to be."
   ]
  },
  {
   "cell_type": "code",
   "execution_count": null,
   "metadata": {},
   "outputs": [],
   "source": [
    "collection = 'c33'\n",
    "\n",
    "metadata_dir = data_dir + '/metadata-' + collection\n",
    "browser_meta_file = metadata_dir + '/meta.csv'\n",
    "\n",
    "check_metadata(metadata_dir)"
   ]
  },
  {
   "cell_type": "markdown",
   "metadata": {},
   "source": [
    "### Select models to create dfr-browsers for\n",
    "By default, this notebook is set to create dfr-browsers for all of the models you produced for each collection you have modeled. If you would like to select only certain models to produce dfr-browsers for, make those selections in the next cell (see next paragraph). Otherwise leave the value in the next cell set to `All`, which is the default. \n",
    "\n",
    "**To produce browsers for a selection of the models you created, but not all:** Navigate to the `data/models` directory in this repo. Then navigate to the subdirectory of the collection you want to produce a dfr-browser for (`c33` or `c36`, for example). Note the name of each subdirectory in that folder. Each subdirectory should be called `topicsn1`, where `n1` is the number of topics you chose to model. You should see a subdirectory for each model you produced. To choose which subdirectory/ies you would like to produce browsers for, change the value of `selection` in the cell below to a list of subdirectory names. For example, if you wanted to produce browsers for only the 50- and 75-topic models you created, change the value of `selection` below to this:\n",
    "\n",
    "Example:\n",
    "\n",
    "`selection = ['topics50','topics75']`\n",
    "\n",
    "Please follow this format exactly."
   ]
  },
  {
   "cell_type": "code",
   "execution_count": null,
   "metadata": {},
   "outputs": [],
   "source": [
    "selection = 'All'"
   ]
  },
  {
   "cell_type": "markdown",
   "metadata": {},
   "source": [
    "Get names of model subdirectories to visualize and their state and scaled files. The below function assumes you have not changed the structure of this repo. You can set values for `subdir_list`, `state_file_list`, and `scaled_file_list` manually in the cell below the next one."
   ]
  },
  {
   "cell_type": "code",
   "execution_count": null,
   "metadata": {},
   "outputs": [],
   "source": [
    "subdir_list, state_file_list, scaled_file_list = get_model_state(collection, selection, model_dir)"
   ]
  },
  {
   "cell_type": "markdown",
   "metadata": {},
   "source": [
    "Optionally, set values manually."
   ]
  },
  {
   "cell_type": "code",
   "execution_count": null,
   "metadata": {},
   "outputs": [],
   "source": [
    "# subdir_list = []\n",
    "# state_file_list = []\n",
    "# scaled_file_list = []"
   ]
  },
  {
   "cell_type": "markdown",
   "metadata": {},
   "source": [
    "### Create and move files needed for dfr-browser, using model state and scaled files for all selected models. \n",
    "\n",
    "This will create your dfr-browsers. Please note that the \"View Metadata\" button in the Document view will not work in your dfr-browser. The below cell prints output from Goldstone's prepare_data.py script to the notebook cell."
   ]
  },
  {
   "cell_type": "code",
   "execution_count": null,
   "metadata": {},
   "outputs": [],
   "source": [
    "create_dfrbrowser(collection, subdir_list, state_file_list, scaled_file_list, browser_meta_file, current_dir)\n"
   ]
  },
  {
   "cell_type": "markdown",
   "metadata": {},
   "source": [
    "## 2. View Browser\n",
    "\n",
    "Run the following cell for instructions about how to view your dfr-browsers."
   ]
  },
  {
   "cell_type": "code",
   "execution_count": null,
   "metadata": {},
   "outputs": [],
   "source": [
    "from IPython.display import display, HTML\n",
    "msg = '''\n",
    "<h2>View your Dfr-Browsers</h2>\n",
    "<p>To view your browsers on your machine:</p>\n",
    "<ol>\n",
    "    <li>In the `dfr_browser` module directory, you should now see a collection folder. Within that, you should see folders titled <code>topicsn1</code>, <code>topicsn2</code>, etc where <code>n</code> is the number of topics you modeled. There should be one browser folder for each browser you produced.</li>\n",
    "    <li>Open a shell/terminal on your machine, and and navigate to the browser directory of the model you want to view.</li>\n",
    "    <li>Launch a local webserver by running:<br><code>bin/server</code></li>\n",
    "    <li>You can now view your dfr-browser using your machine's internet browser at <a href='http://localhost:9000/' target='_blank'>http://localhost:9000/</a></li>\n",
    "    </ol>\n",
    "'''\n",
    "output = HTML(msg)\n",
    "display(output)"
   ]
  }
 ],
 "metadata": {
  "kernelspec": {
   "display_name": "Python 3",
   "language": "python",
   "name": "python3"
  },
  "language_info": {
   "codemirror_mode": {
    "name": "ipython",
    "version": 3
   },
   "file_extension": ".py",
   "mimetype": "text/x-python",
   "name": "python",
   "nbconvert_exporter": "python",
   "pygments_lexer": "ipython3",
   "version": "3.6.8"
  }
 },
 "nbformat": 4,
 "nbformat_minor": 2
}
