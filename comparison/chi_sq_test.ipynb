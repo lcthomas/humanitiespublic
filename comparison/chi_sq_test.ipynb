{
 "cells": [
  {
   "cell_type": "markdown",
   "metadata": {},
   "source": [
    "## Compare Two Variables using Chi-Square Test\n",
    "\n",
    "This notebook allows you to compare two variables to see if they are related. It implements a chi-square test for independence to determine if distributions of categorical variables differ from one another in a statistically meaningful sense. In our article, we use a chi-square test to determine if there is a relationship between the subject an article is about (science or the humanities) and the type of newspaper that article appears in (top-circulating newspapers or student newspapers).\n",
    "\n",
    "See this module's `README.md` file for more information about the data used and produced in this notebook and for more information about the chi-square test."
   ]
  },
  {
   "cell_type": "markdown",
   "metadata": {},
   "source": [
    "## Settings\n",
    "\n",
    "This code block imports required Python modules and sets a required variable."
   ]
  },
  {
   "cell_type": "code",
   "execution_count": 1,
   "metadata": {},
   "outputs": [],
   "source": [
    "# Python imports\n",
    "from scipy.stats import chi2_contingency\n",
    "import numpy as np\n",
    "from pathlib import Path\n",
    "\n",
    "# Define paths \n",
    "# directory this notebook is in\n",
    "current_dir       = %pwd\n",
    "# directory of this repo on your machine\n",
    "module_dir        = str(Path(current_dir).parent)\n",
    "# directory of repo data\n",
    "data_dir          = module_dir + '/data'\n",
    "\n",
    "csv_file = data_dir + '/tables/chi-sq-contingency-notext.csv'"
   ]
  },
  {
   "cell_type": "markdown",
   "metadata": {},
   "source": [
    "## Conduct the chi-square test\n",
    "\n",
    "This cell will conduct the chi-square test and print the results to the notebook. The null hypothesis for this comparison is that there is no relationship between the subject an article is about (science or the humanities) and the type of newspapers that article appears in (top-circulating newspapers or student newspapers).\n",
    "\n",
    "\"Independent (null hypothesis holds true)\" = estimated that the variables being tested are independent of one another <br/>\n",
    "\"Dependent (reject null hypothesis)\" = estimated that the variables being tested are dependent on one another"
   ]
  },
  {
   "cell_type": "code",
   "execution_count": 2,
   "metadata": {},
   "outputs": [
    {
     "name": "stdout",
     "output_type": "stream",
     "text": [
      "p value is 8.805779309195633e-49\n",
      "Dependent (reject null hypothesis)\n"
     ]
    }
   ],
   "source": [
    "# uploading csv to array\n",
    "with open(csv_file) as file_name:\n",
    "    data = np.loadtxt(file_name, delimiter=\",\")\n",
    "\n",
    "# running the test\n",
    "stat, p, dof, expected = chi2_contingency(data)\n",
    "  \n",
    "# interpreting p-value\n",
    "alpha = 0.05\n",
    "print(\"p value is \" + str(p))\n",
    "if p <= alpha:\n",
    "    print('Dependent (reject null hypothesis)')\n",
    "else:\n",
    "    print('Independent (null hypothesis holds true)')"
   ]
  },
  {
   "cell_type": "markdown",
   "metadata": {},
   "source": [
    "### Learn more about the values used in the test\n",
    "\n",
    "You can view the other values calculated as part of the chi-square test by running the cells below."
   ]
  },
  {
   "cell_type": "markdown",
   "metadata": {},
   "source": [
    "#### View the degrees of freedom of the contingency table"
   ]
  },
  {
   "cell_type": "code",
   "execution_count": null,
   "metadata": {},
   "outputs": [],
   "source": [
    "print(dof)"
   ]
  },
  {
   "cell_type": "markdown",
   "metadata": {},
   "source": [
    "#### View the expected values calculated from the contingency table"
   ]
  },
  {
   "cell_type": "code",
   "execution_count": 3,
   "metadata": {},
   "outputs": [
    {
     "name": "stdout",
     "output_type": "stream",
     "text": [
      "[[1945.52279473 8378.47720527]\n",
      " [ 530.47720527 2284.52279473]]\n"
     ]
    }
   ],
   "source": [
    "print(expected)"
   ]
  },
  {
   "cell_type": "markdown",
   "metadata": {},
   "source": [
    "#### View the test statistic"
   ]
  },
  {
   "cell_type": "code",
   "execution_count": null,
   "metadata": {},
   "outputs": [],
   "source": [
    "print(stat)"
   ]
  }
 ],
 "metadata": {
  "kernelspec": {
   "display_name": "Python 3",
   "language": "python",
   "name": "python3"
  },
  "language_info": {
   "codemirror_mode": {
    "name": "ipython",
    "version": 3
   },
   "file_extension": ".py",
   "mimetype": "text/x-python",
   "name": "python",
   "nbconvert_exporter": "python",
   "pygments_lexer": "ipython3",
   "version": "3.6.8"
  }
 },
 "nbformat": 4,
 "nbformat_minor": 2
}
